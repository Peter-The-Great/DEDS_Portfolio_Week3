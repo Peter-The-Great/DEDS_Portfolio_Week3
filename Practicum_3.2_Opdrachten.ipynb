{
 "cells": [
  {
   "cell_type": "markdown",
   "metadata": {},
   "source": [
    "# PR 3.2 Pjotr en Sennen\n",
    "\n",
    "Hierin staat de opdracht die we hebben gekregen na het hoorcollege van dinsdag 27 februari 2024.\n",
    "\n",
    "Hierbij gaan we het hebben over datastructuren in python.\n",
    "\n",
    "Python heeft een aantal ingebouwde datastructuren, zoals lists, tuples, sets en dictionaries. Maar voor sommige toepassingen zijn deze datastructuren niet geschikt. Daarom zijn er ook externe datastructuren, zoals arrays, linked lists, stacks, queues, trees, graphs en hash tables. Elk van deze datastructuren heeft zijn eigen voor- en nadelen. En wij gaan dus hier een aantal van deze datastructuren uitvoeren.\n",
    "\n",
    "Eerst gaan we 5 datastructuren uitproberen in Python. Hieronder zullen de datastructuren worden uitgelegd en worden uitgevoerd in Python."
   ]
  },
  {
   "cell_type": "markdown",
   "metadata": {},
   "source": [
    "## Dictionary\n",
    "\n",
    "In python is een dictionary een ongeordende collectie van items. Terwijl andere datastructuren items opslaan in een geordende manier, slaat een dictionary items op in een ongeordende manier. Een dictionary heeft een key en een value. Een key is een unieke waarde en een value kan een willekeurige waarde zijn. Een dictionary wordt gemaakt met behulp van accolades {}.\n",
    "\n",
    "Hier is een goed voorbeeld van een dictionary:\n",
    "\n",
    "Hierin maken we een nieuwe dictionary aan met de naam `Auto`. Hierin hebben we het merk, model naam en productiejaar van de auto opgeslagen. Je kan de waardes van de dictionary ophalen door de key te gebruiken. In dit geval hebben we de key `brand` gebruikt om de waarde van de key op te halen."
   ]
  },
  {
   "cell_type": "code",
   "execution_count": 2,
   "metadata": {},
   "outputs": [
    {
     "name": "stdout",
     "output_type": "stream",
     "text": [
      "{'brand': 'Ford', 'model': 'Mustang', 'year': 1964}\n",
      "Ford\n"
     ]
    }
   ],
   "source": [
    "Auto = {\n",
    "  \"brand\": \"Ford\",\n",
    "  \"model\": \"Mustang\",\n",
    "  \"year\": 1964\n",
    "}\n",
    "print(Auto)\n",
    "print(Auto[\"brand\"])"
   ]
  },
  {
   "cell_type": "markdown",
   "metadata": {},
   "source": [
    "Wat je hoeft niet altijd een string op te halen, je kan ook een integer of een float ophalen. Hier is een voorbeeld van een dictionary met een integer als key. Je kan hiervoor ook de functie get() gebruiken om de waarde van de key op te halen.\n",
    "\n",
    "Daarnaast kun je dictionary comprhension gebruiken om een dictionary te maken. Hier kan ik een list maken van cijfers waar i de key is en i krijgt dan de waarde van i tot de macht 3."
   ]
  },
  {
   "cell_type": "code",
   "execution_count": 14,
   "metadata": {},
   "outputs": [
    {
     "name": "stdout",
     "output_type": "stream",
     "text": [
      "[1, 2, 3, 4]\n",
      "{1: 1, 2: 8, 3: 27, 4: 64, 5: 125}\n"
     ]
    }
   ],
   "source": [
    "Voorbeeld = {'Naam': 'Senne', 1.5: [1, 2, 3, 4]}\n",
    "print(Voorbeeld.get(1.5))\n",
    "\n",
    "comp = {i: i.__pow__(3) for i in [1,2,3,4,5]}\n",
    "print(comp)"
   ]
  },
  {
   "cell_type": "markdown",
   "metadata": {},
   "source": [
    "## Set\n",
    "Een set is een ongeordende collectie van unieke items. Een set kan worden gemaakt met behulp van accolades {} en de items worden gescheiden door komma's. Een set kan geen dubbele items bevatten. Een set kan ook worden gemaakt met behulp van de set() functie. In vergelijking met andere datastructuren, zoals lists en tuples, is een set sneller en efficiënter. Waar je ook verschillende datatypes in kan toevoegen. Hier is een voorbeeld van een set:"
   ]
  },
  {
   "cell_type": "code",
   "execution_count": 23,
   "metadata": {},
   "outputs": [
    {
     "name": "stdout",
     "output_type": "stream",
     "text": [
      "{1, 2, 3.14, 3, 4, 5, 'Help is needed'}\n"
     ]
    }
   ],
   "source": [
    "setvandingen= set([1,2,3,3.14,4,5,\"Help is needed\"])\n",
    "print(setvandingen)"
   ]
  },
  {
   "cell_type": "markdown",
   "metadata": {},
   "source": [
    "## Bytearray\n",
    "Een bytearray is een ingebouwde datastructuur in Python. Het is een array van bytes. Het is een mutable datastructuur (waardoor het anders werkt dan normale byte objecten), wat betekent dat je de waardes van de array kan veranderen. Een bytearray kan worden gemaakt met behulp van de functie bytearray()."
   ]
  },
  {
   "cell_type": "code",
   "execution_count": 24,
   "metadata": {},
   "outputs": [
    {
     "name": "stdout",
     "output_type": "stream",
     "text": [
      "bytearray(b'\\x00\\x00\\x00\\x00\\x00')\n",
      "bytearray(b'\\x00\\x01\\x02\\x03\\x04\\x05\\x06\\x07\\x08\\t\\n\\x0b\\x0c\\r\\x0e\\x0f\\x10\\x11\\x12\\x13')\n"
     ]
    }
   ],
   "source": [
    "lijstje1 = bytearray(5)\n",
    "lijstje2 = bytearray(range(20))\n",
    "\n",
    "# Hier wordt een bytearray gemaakt met 5 nullen\n",
    "print(lijstje1)\n",
    "\n",
    "# Hier wordt een bytearray gemaakt met 20 bytes, van 0 tot 19\n",
    "print(lijstje2)"
   ]
  },
  {
   "cell_type": "markdown",
   "metadata": {},
   "source": [
    "## Linked List\n",
    "Een linked list is een datastructuur die bestaat uit een reeks van nodes. Elke node bevat een waarde en een referentie naar de volgende node in de reeks. Een linked list kan een enkelvoudige linked list zijn, waarbij elke node een referentie heeft naar de volgende node in de reeks. Een linked list kan ook een dubbelvoudige linked list zijn, waarbij elke node een referentie heeft naar de vorige en de volgende node in de reeks. Een linked list kan ook een cirkelvormige linked list zijn, waarbij de laatste node een referentie heeft naar de eerste node in de reeks. Hier is een voorbeeld van een enkelvoudige linked list, aangezien de linked list niet een ingebouwde datastructuur is in Python, moeten we de linked list zelf maken:"
   ]
  },
  {
   "cell_type": "code",
   "execution_count": 16,
   "metadata": {},
   "outputs": [
    {
     "name": "stdout",
     "output_type": "stream",
     "text": [
      "1325 1 2 3 4 5 \n",
      "1 2 4 5 \n",
      "True\n",
      "False\n",
      "Dit is de linked list als object:\n",
      "<__main__.LinkedList object at 0x00000140EDED9880>\n"
     ]
    }
   ],
   "source": [
    "# Elke node hoort in een linked list te zitten, die een waarde heeft en een pointer naar de volgende node\n",
    "class Node:\n",
    "    def __init__(self, data):\n",
    "        self.data = data\n",
    "        self.next = None\n",
    "\n",
    "# Hier is waar de magie gebeurt, de linked list class\n",
    "class LinkedList:\n",
    "    def __init__(self):\n",
    "        # De head is de eerste node in de linked list\n",
    "        self.head = None\n",
    "        \n",
    "    # Deze functie checkt of de linked list leeg is, dan wordt er een boolean teruggegeven genaamd none en dan is de head leeg.\n",
    "    def is_empty(self):\n",
    "        return self.head is None\n",
    "    \n",
    "    # Deze functie voegt een node toe aan het begin van de linked list\n",
    "    def insert_at_beginning(self, data):\n",
    "        new_node = Node(data)\n",
    "        new_node.next = self.head\n",
    "        self.head = new_node\n",
    "\n",
    "    # Deze functie voegt een node toe aan het einde van de linked list\n",
    "    def insert_at_end(self, data):\n",
    "        new_node = Node(data)\n",
    "        if self.is_empty():\n",
    "            self.head = new_node\n",
    "        else:\n",
    "            current = self.head\n",
    "            while current.next:\n",
    "                current = current.next\n",
    "            current.next = new_node\n",
    "\n",
    "    # Deze functie verwijdert een node uit de linked list\n",
    "    def delete(self, data):\n",
    "        # Als de linked list leeg is, dan wordt er niks gedaan\n",
    "        if self.is_empty():\n",
    "            return\n",
    "        # Als de head van de linked list de data bevat, dan wordt de head de volgende node\n",
    "        if self.head.data == data:\n",
    "            self.head = self.head.next\n",
    "            return\n",
    "        # De current node wordt de head\n",
    "        current = self.head\n",
    "        # Terwijl de volgende node bestaat, wordt er gekeken of de volgende node de data bevat. Zo ja, dan wordt de volgende node de node daarna\n",
    "        while current.next:\n",
    "            if current.next.data == data:\n",
    "                current.next = current.next.next\n",
    "                return\n",
    "            current = current.next\n",
    "    \n",
    "    # Deze functie zoekt naar een node in de linked list\n",
    "    def search(self, data):\n",
    "        current = self.head\n",
    "        while current:\n",
    "            if current.data == data:\n",
    "                return True\n",
    "            current = current.next\n",
    "        return False\n",
    "    \n",
    "    #  Deze functie print de linked list\n",
    "    def display(self):\n",
    "        current = self.head\n",
    "        while current:\n",
    "            print(current.data, end=\" \")\n",
    "            current = current.next\n",
    "        print()\n",
    "\n",
    "# Voorbeeld van gebruik\n",
    "linked_list = LinkedList()\n",
    "linked_list.insert_at_beginning(3)\n",
    "linked_list.insert_at_beginning(2)\n",
    "linked_list.insert_at_beginning(1)\n",
    "linked_list.insert_at_beginning(1325)\n",
    "linked_list.insert_at_end(4)\n",
    "linked_list.insert_at_end(5)\n",
    "linked_list.display()  # Output: 1 2 3 4 5\n",
    "\n",
    "linked_list.delete(3)\n",
    "linked_list.delete(1325)\n",
    "linked_list.display()  # Output: 1 2 4 5\n",
    "\n",
    "print(linked_list.search(4))  # Output: True\n",
    "print(linked_list.search(6))  # Output: False\n",
    "print(\"Dit is de linked list als object:\")\n",
    "print(linked_list)  # Output: Wat de linked list is als object."
   ]
  },
  {
   "cell_type": "markdown",
   "metadata": {},
   "source": [
    "Er zijn library's die je kan gebruiken om een linked list te maken, zoals de library `collections`. Hierin kan je de `deque` gebruiken om een linked list te maken."
   ]
  },
  {
   "cell_type": "code",
   "execution_count": 23,
   "metadata": {},
   "outputs": [
    {
     "name": "stdout",
     "output_type": "stream",
     "text": [
      "deque([0, 1, 2, 3])\n"
     ]
    }
   ],
   "source": [
    "import collections\n",
    "# Een deque is een double-ended queue, wat betekent dat je van beide kanten dingen kan toevoegen en verwijderen\n",
    "de = collections.deque([1, 2, 3]) # output: deque([1, 2, 3])\n",
    "de.append(4) # output: deque([1, 2, 3, 4])\n",
    "de.appendleft(0) # output: deque([0, 1, 2, 3, 4])\n",
    "de.pop() # output: deque([0, 1, 2, 3])\n",
    "print(de)"
   ]
  },
  {
   "cell_type": "markdown",
   "metadata": {},
   "source": [
    "## Waar worden ze in gebruikt?\n"
   ]
  }
 ],
 "metadata": {
  "kernelspec": {
   "display_name": "pjotr-sennen-des-portfolio-AO_7LpoM-py3.12",
   "language": "python",
   "name": "python3"
  },
  "language_info": {
   "codemirror_mode": {
    "name": "ipython",
    "version": 3
   },
   "file_extension": ".py",
   "mimetype": "text/x-python",
   "name": "python",
   "nbconvert_exporter": "python",
   "pygments_lexer": "ipython3",
   "version": "3.12.2"
  }
 },
 "nbformat": 4,
 "nbformat_minor": 2
}
