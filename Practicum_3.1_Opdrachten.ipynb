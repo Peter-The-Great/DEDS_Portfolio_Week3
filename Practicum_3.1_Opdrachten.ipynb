{
 "cells": [
  {
   "cell_type": "markdown",
   "metadata": {},
   "source": [
    "# PR 3.1 Pjotr en Sennen\n",
    "\n",
    "Hierin staat de opdracht die we hebben gekregen na het hoorcollege van maandag 26 februari 2024.\n",
    "\n",
    "Maak een 3 arrays van 20 willekeurige getalen."
   ]
  },
  {
   "cell_type": "code",
   "execution_count": 4,
   "metadata": {},
   "outputs": [],
   "source": [
    "import random\n",
    "\n",
    "# Create the first array\n",
    "array1 = [random.randint(1, 100) for _ in range(20)]\n",
    "\n",
    "# Create the second array\n",
    "array2 = [random.randint(1, 100) for _ in range(20)]\n",
    "\n",
    "# Create the third array\n",
    "array3 = [random.randint(1, 100) for _ in range(20)]\n",
    "\n",
    "\n",
    "list1 = [78, 23, 12, 54, 90, 37, 65, 8, 19, 46, 71, 28, 5, 95, 32, 60, 15, 42, 69, 10]\n",
    "list2 = [17, -23, 12, 3, -14, 28, 4, -37, 19, 10, 22, -8, 35, -29, 7, 20, -40, 32, 9, 6]\n",
    "list3 = [23, 14, 37, 1, 28, 10, 32, 6, 19, 35, 2, 40, 15, 3, 25, 7, 39, 20, 12, 31]\n",
    "\n",
    "\n",
    "# # # "
   ]
  },
  {
   "cell_type": "markdown",
   "metadata": {},
   "source": [
    "Hierna moesten we zoeken op het internet naar ten minste drie verschillende sorteeralgoritmes die je wilt gebruiken om de integer arrays mee te sorteren.\n",
    "\n",
    "Uiteindelijk hebben we gekozen voor de volgende algoritmes:\n",
    "- Bubble Sort\n",
    "- Quick Sort\n",
    "- Bogo Sort\n",
    "\n",
    "\n",
    "Hieronder mplementeren we onze gekozen sorteeralgoritmes om de integer arrays mee te sorteren. (Maak voor elk sorteeralgoritme een nieuwe methode aan die een integer array als parameter heeft en de integer array gesorteerd returnt.)i"
   ]
  },
  {
   "cell_type": "code",
   "execution_count": 5,
   "metadata": {},
   "outputs": [
    {
     "name": "stdout",
     "output_type": "stream",
     "text": [
      "Originele arrays:\n",
      "[98, 83, 27, 3, 44, 33, 31, 33, 24, 73, 78, 59, 21, 26, 14, 4, 40, 31, 86, 76]\n",
      "[74, 99, 84, 30, 81, 38, 10, 84, 50, 84, 13, 33, 100, 99, 86, 5, 1, 7, 73, 80]\n",
      "[100, 16, 35, 85, 60, 50, 57, 4, 54, 27, 53, 80, 72, 53, 15, 38, 13, 87, 75, 24]\n",
      "\n",
      "Gesorteerde arrays:\n",
      "[3, 4, 14, 21, 24, 26, 27, 31, 31, 33, 33, 40, 44, 59, 73, 76, 78, 83, 86, 98]\n",
      "[1, 5, 7, 10, 13, 30, 33, 38, 50, 73, 74, 80, 81, 84, 84, 84, 86, 99, 99, 100]\n",
      "[4, 13, 15, 16, 24, 27, 35, 38, 50, 53, 53, 54, 57, 60, 72, 75, 80, 85, 87, 100]\n"
     ]
    }
   ],
   "source": [
    "# Sorting algoritme 1: Bubble Sort\n",
    "\n",
    "def bubble(array):\n",
    "    n = len(array)\n",
    "    for i in range(n - 1):\n",
    "        for j in range(0, n - i - 1):\n",
    "            if array[j] > array[j + 1]:\n",
    "                array[j], array[j + 1] = array[j + 1], array[j]\n",
    "    return array\n",
    "\n",
    "print('Originele arrays:')\n",
    "print(array1)\n",
    "print(array2)\n",
    "print(array3)\n",
    "print()\n",
    "\n",
    "print('Gesorteerde arrays:')\n",
    "print(bubble(array1))\n",
    "print(bubble(array2))\n",
    "print(bubble(array3))"
   ]
  },
  {
   "cell_type": "code",
   "execution_count": 8,
   "metadata": {},
   "outputs": [
    {
     "name": "stdout",
     "output_type": "stream",
     "text": [
      "Orginele lists: \n",
      "[81, 70, 94, 81, 28, 100, 58, 61, 98, 67, 14, 18, 18, 87, 47, 61, 17, 90, 7, 60]\n",
      "[77, 95, 23, 13, 97, 52, 65, 45, 14, 76, 36, 90, 29, 21, 37, 77, 36, 65, 75, 54]\n",
      "[100, 34, 51, 82, 80, 76, 36, 33, 96, 77, 53, 44, 47, 95, 14, 47, 9, 30, 33, 23]\n",
      "\n",
      "Gesorteerde arraylists: \n",
      "[7, 14, 17, 18, 18, 28, 47, 58, 60, 61, 61, 67, 70, 81, 81, 87, 90, 94, 98, 100]\n",
      "[13, 14, 21, 23, 29, 36, 36, 37, 45, 52, 54, 65, 65, 75, 76, 77, 77, 90, 95, 97]\n",
      "[9, 14, 23, 30, 33, 33, 34, 36, 44, 47, 47, 51, 53, 76, 77, 80, 82, 95, 96, 100]\n"
     ]
    }
   ],
   "source": [
    "# Sorting algoritme 2: Quick Sort\n",
    "def quick_sort(array):\n",
    "    if len(array) <= 1:\n",
    "        return array\n",
    "    else:\n",
    "        pivot = array[0]\n",
    "        less = [x for x in array[1:] if x <= pivot]\n",
    "        greater = [x for x in array[1:] if x > pivot]\n",
    "        return quick_sort(less) + [pivot] + quick_sort(greater)\n",
    "\n",
    "print(\"Orginele lists: \")\n",
    "print(array1)\n",
    "print(array2)\n",
    "print(array3)\n",
    "print()\n",
    "\n",
    "print(\"Gesorteerde arraylists: \")\n",
    "print(quick_sort(array1))\n",
    "print(quick_sort(array2))\n",
    "print(quick_sort(array3))"
   ]
  },
  {
   "cell_type": "code",
   "execution_count": 2,
   "metadata": {},
   "outputs": [
    {
     "name": "stdout",
     "output_type": "stream",
     "text": [
      "Original arrays:\n",
      "[70, 55, 54, 81, 24, 34, 25, 89, 100, 49, 81, 31, 16, 50, 88, 58, 83, 63, 86, 63]\n",
      "[78, 73, 14, 65, 60, 41, 95, 100, 21, 22, 40, 28, 74, 1, 25, 19, 93, 39, 63, 70]\n",
      "[10, 53, 89, 24, 64, 100, 89, 1, 27, 21, 86, 49, 91, 34, 66, 94, 29, 54, 93, 42]\n",
      "\n",
      "Sorted arrays:\n",
      "Dit algorithme duurt 77000 jaar om te sorteren. Je kunt de het uitzetten wanneer je wilt.\n"
     ]
    }
   ],
   "source": [
    "# Sorting algorithm 3: Bogo Sort\n",
    "def bogo_sort(array):\n",
    "    while not is_sorted(array):\n",
    "        random.shuffle(array)\n",
    "    return array\n",
    "\n",
    "# Function to check if the array is sorted\n",
    "def is_sorted(array):\n",
    "    for i in range(len(array) - 1):\n",
    "        if array[i] > array[i + 1]:\n",
    "            return False\n",
    "    return True\n",
    "\n",
    "# Sort array1 using Bogo Sort\n",
    "print(\"Original arrays:\")\n",
    "print(array1)\n",
    "print(array2)\n",
    "print(array3)\n",
    "print()\n",
    "\n",
    "print(\"Sorted arrays:\")\n",
    "print(\"Dit algorithme duurt 77000 jaar om te sorteren. Je kuntde het uitzetten wanneer je wilt.\")\n",
    "# print(bogo_sort(array1))\n",
    "# print(bogo_sort(array2))\n",
    "# print(bogo_sort(array3))"
   ]
  },
  {
   "cell_type": "markdown",
   "metadata": {},
   "source": [
    "Voor de grap maken we de American flag sort algorithme. Dit is een algoritme dat een array sorteert door de waardes van de array te tellen en vervolgens de array te sorteren op basis van de getelde waardes."
   ]
  },
  {
   "cell_type": "code",
   "execution_count": 2,
   "metadata": {},
   "outputs": [
    {
     "name": "stdout",
     "output_type": "stream",
     "text": [
      "Original array:\n",
      "[87, 58, 15, 13, 34, 98, 16, 93, 36, 92, 86, 54, 27, 100, 39, 31, 18, 27, 59, 81]\n",
      "[90, 42, 65, 78, 20, 11, 52, 26, 45, 70, 16, 12, 94, 42, 73, 13, 95, 59, 57, 45]\n",
      "[77, 64, 33, 47, 9, 26, 44, 31, 17, 99, 14, 76, 32, 25, 31, 97, 44, 91, 26, 33]\n",
      "\n",
      "Sorted array:\n",
      "[13, 15, 16, 18, 27, 27, 31, 34, 36, 39, 54, 58, 59, 81, 86, 87, 92, 93, 98, 100]\n",
      "[11, 12, 13, 16, 20, 26, 42, 42, 45, 45, 52, 57, 59, 65, 70, 73, 78, 90, 94, 95]\n",
      "[9, 14, 17, 25, 26, 26, 31, 31, 32, 33, 33, 44, 44, 47, 64, 76, 77, 91, 97, 99]\n"
     ]
    }
   ],
   "source": [
    "def american_flag_sort(array):\n",
    "    # Vind de maximale waarde in de array\n",
    "    max_value = max(array)\n",
    "\n",
    "    # maak een lijst van lege lijsten voor de buckets\n",
    "    buckets = [[] for _ in range(max_value + 1)]\n",
    "\n",
    "    # Plaats elk element in de juiste bucket\n",
    "    for num in array:\n",
    "        buckets[num].append(num)\n",
    "\n",
    "    # Sorteer elke bucket en plaats de elementen terug in de array\n",
    "    for bucket in buckets:\n",
    "        for i in range(len(bucket) - 1):\n",
    "            for j in range(len(bucket) - i - 1):\n",
    "                if bucket[j] > bucket[j + 1]:\n",
    "                    bucket[j], bucket[j + 1] = bucket[j + 1], bucket[j]\n",
    "\n",
    "    # Voeg de gesorteerde buckets samen\n",
    "    sorted_array = []\n",
    "    for bucket in buckets:\n",
    "        sorted_array.extend(bucket)\n",
    "\n",
    "    return sorted_array\n",
    "\n",
    "print(\"Original array:\")\n",
    "print(array1)\n",
    "print(array2)\n",
    "print(array3)\n",
    "print()\n",
    "\n",
    "print(\"Sorted array:\")\n",
    "print(american_flag_sort(array1))\n",
    "print(american_flag_sort(array2))\n",
    "print(american_flag_sort(array3))"
   ]
  }
 ],
 "metadata": {
  "kernelspec": {
   "display_name": "pjotr-sennen-des-portfolio-AO_7LpoM-py3.12",
   "language": "python",
   "name": "python3"
  },
  "language_info": {
   "codemirror_mode": {
    "name": "ipython",
    "version": 3
   },
   "file_extension": ".py",
   "mimetype": "text/x-python",
   "name": "python",
   "nbconvert_exporter": "python",
   "pygments_lexer": "ipython3",
   "version": "3.12.2"
  }
 },
 "nbformat": 4,
 "nbformat_minor": 2
}
