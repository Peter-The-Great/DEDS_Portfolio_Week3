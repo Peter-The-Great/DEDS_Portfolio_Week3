{
 "cells": [
  {
   "cell_type": "markdown",
   "metadata": {},
   "source": [
    "# PR 3.1 Pjotr en Sennen\n",
    "\n",
    "Hierin staat de opdracht die we hebben gekregen na het hoorcollege van maandag 26 februari 2024.\n",
    "\n",
    "Maak een 3 arrays van 20 willekeurige getalen."
   ]
  },
  {
   "cell_type": "code",
   "execution_count": 1,
   "metadata": {},
   "outputs": [],
   "source": [
    "import random\n",
    "import timeit\n",
    "\n",
    "array1 = [random.randint(1, 100) for _ in range(20)]\n",
    "array2 = [random.randint(1, 100) for _ in range(20)]\n",
    "array3 = [random.randint(1, 100) for _ in range(20)] "
   ]
  },
  {
   "cell_type": "markdown",
   "metadata": {},
   "source": [
    "Hierna moesten we zoeken op het internet naar ten minste drie verschillende sorteeralgoritmes die je wilt gebruiken om de integer arrays mee te sorteren.\n",
    "\n",
    "Uiteindelijk hebben we gekozen voor de volgende algoritmes:\n",
    "- Bubble Sort\n",
    "- Quick Sort\n",
    "- Bogo Sort\n",
    "\n",
    "\n",
    "Hieronder mplementeren we onze gekozen sorteeralgoritmes om de integer arrays mee te sorteren. (Maak voor elk sorteeralgoritme een nieuwe methode aan die een integer array als parameter heeft en de integer array gesorteerd returnt.)"
   ]
  },
  {
   "cell_type": "markdown",
   "metadata": {},
   "source": [
    "## Bubble Sort\n",
    "Bubble Sort is een eenvoudig sorteeralgoritme. Het werkt door herhaaldelijk doorlopen van de lijst, te vergelijken van elk element met zijn opvolger en ze om te wisselen als ze in de verkeerde volgorde staan. De passen door de lijst worden herhaald totdat de lijst gesorteerd is. De algoritme is niet erg efficiënt, maar het is een van de eenvoudigste sorteeralgoritmes om te implementeren.\n",
    "\n",
    "Hoe werkt het?\n",
    "- Vergelijk elk paar opeenvolgende elementen van de lijst.\n",
    "- Als ze in de verkeerde volgorde staan, wissel ze om.\n",
    "- Herhaal dit totdat de lijst gesorteerd is.\n",
    "\n",
    "De big o notation voor quick sort is:\n",
    "- Worst case: O(n^2)\n",
    "- Best case: Ω(n)\n",
    "- Average case: Θ(n^2)"
   ]
  },
  {
   "cell_type": "code",
   "execution_count": null,
   "metadata": {},
   "outputs": [],
   "source": [
    "# Sorting algoritme 1: Bubble Sort\n",
    "\n",
    "def bubble(array):\n",
    "    n = len(array)\n",
    "    for i in range(n - 1):\n",
    "        for j in range(0, n - i - 1):\n",
    "            if array[j] > array[j + 1]:\n",
    "                array[j], array[j + 1] = array[j + 1], array[j]\n",
    "    return array\n",
    "\n",
    "print('Originele arrays:')\n",
    "print(array1)\n",
    "print(array2)\n",
    "print(array3)\n",
    "print()\n",
    "\n",
    "\n",
    "print('Gesorteerde arrays:')\n",
    "print(bubble(array1))\n",
    "print(bubble(array2))\n",
    "print(bubble(array3))\n",
    "print()\n",
    "\n",
    "print(\"De tijd die het kost om de bubble sort uit te voeren is: \", timeit.timeit(\"bubble(array1)\", globals=globals(), number=1000), \"ms\")"
   ]
  },
  {
   "cell_type": "markdown",
   "metadata": {},
   "source": [
    "## Quick Sort\n",
    "Quick sort is een algoritme dat veel gebruikt. Het kiest een element als pivot en deelt de array in twee delen op. De elementen kleiner dan de pivot komen links van de pivot en de elementen groter dan de pivot komen rechts van de pivot. De elementen links en rechts van de pivot worden dan opnieuw gesorteerd. Dit proces wordt herhaald totdat de array gesorteerd is.\n",
    "\n",
    "Hoe werkt het:\n",
    "\n",
    "1. Het algoritme selecteert een pivot-element uit de te sorteren lijst. Dit kan op verschillende manieren gebeuren, maar meestal wordt het eerste, het laatste of het middelste element gekozen.\n",
    "2. Het algoritme verdeelt de lijst in twee sublijsten: één met elementen kleiner dan de pivot en één met elementen groter dan de pivot.\n",
    "3. Het algoritme past zich vervolgens recursief toe op de twee resulterende sublijsten.\n",
    "4. Wanneer de recursie terugkeert, zijn de sublijsten gesorteerd.\n",
    "\n",
    "De big o notation voor quick sort is:\n",
    "- Worst case: O(n^2)\n",
    "- Best case: Ω(n log(n))\n",
    "- Average case: Θ(n log(n))"
   ]
  },
  {
   "cell_type": "code",
   "execution_count": 40,
   "metadata": {},
   "outputs": [
    {
     "name": "stdout",
     "output_type": "stream",
     "text": [
      "Orginele lists: \n",
      "[71, 60, 21, 62, 72, 15, 50, 80, 56, 94, 53, 88, 43, 43, 49, 26, 12, 82, 3, 3]\n",
      "[30, 67, 93, 35, 76, 7, 73, 81, 85, 40, 65, 86, 46, 76, 7, 82, 59, 79, 78, 96]\n",
      "[76, 39, 83, 67, 92, 44, 90, 15, 22, 99, 6, 65, 64, 36, 9, 43, 29, 6, 11, 51]\n",
      "\n",
      "Gesorteerde arraylists: \n",
      "[2, 7, 9, 11, 20, 27, 32, 32, 33, 35, 38, 58, 71, 76, 78, 79, 88, 93, 98, 98]\n",
      "[2, 9, 9, 10, 15, 18, 19, 20, 27, 37, 39, 48, 49, 50, 51, 53, 66, 69, 74, 95]\n",
      "[6, 20, 21, 24, 26, 31, 32, 33, 33, 35, 37, 40, 44, 44, 58, 68, 72, 73, 76, 93]\n",
      "\n",
      "De tijd die het kost om de quick sort uit te voeren is:  0.012693599999693106 ms\n"
     ]
    }
   ],
   "source": [
    "# Sorting algoritme 2: Quick Sort\n",
    "def quick_sort(array):\n",
    "    if len(array) <= 1:\n",
    "        return array\n",
    "    else:\n",
    "        pivot = array[0]\n",
    "        less = [x for x in array[1:] if x <= pivot]\n",
    "        greater = [x for x in array[1:] if x > pivot]\n",
    "        return quick_sort(less) + [pivot] + quick_sort(greater)\n",
    "\n",
    "print(\"Orginele lists: \")\n",
    "print(array1)\n",
    "print(array2)\n",
    "print(array3)\n",
    "print()\n",
    "\n",
    "print(\"Gesorteerde arraylists: \")\n",
    "print(quick_sort(array1))\n",
    "print(quick_sort(array2))\n",
    "print(quick_sort(array3))\n",
    "print()\n",
    "\n",
    "print(\"De tijd die het kost om de quick sort uit te voeren is: \", timeit.timeit(\"quick_sort(array1)\", globals=globals(), number=1000), \"ms\")"
   ]
  },
  {
   "cell_type": "markdown",
   "metadata": {},
   "source": [
    "## Bogo Sort\n",
    "Bogo sort is een algoritme dat de elementen van een array randomiseert en vervolgens controleert of de array gesorteerd is. Als dit niet het geval is, wordt de array opnieuw gerandomiseerd. Dit proces wordt herhaald totdat de array gesorteerd is. Het algoritme heeft een gemiddelde complexiteit van O(n * n!).\n",
    "\n",
    "Het werkt zo:\n",
    "1. Randomiseer de array.\n",
    "2. Controleer of de array gesorteerd is.\n",
    "3. Als de array gesorteerd is, stop. Zo niet, ga terug naar stap 1.\n",
    "\n",
    "Heel slecht algoritme, een alotritme dat je nooit zou moeten gebruiken. Maar wel handig om te weten wat je niet moet gebruiken.\n",
    "\n",
    "De big O notation van bogo sort is:\n",
    "- Worst case: O(n*!n)\n",
    "- Best case: O(n)\n",
    "- Average case: O((n+1)!)"
   ]
  },
  {
   "cell_type": "code",
   "execution_count": 2,
   "metadata": {},
   "outputs": [
    {
     "name": "stdout",
     "output_type": "stream",
     "text": [
      "Original arrays:\n",
      "[70, 55, 54, 81, 24, 34, 25, 89, 100, 49, 81, 31, 16, 50, 88, 58, 83, 63, 86, 63]\n",
      "[78, 73, 14, 65, 60, 41, 95, 100, 21, 22, 40, 28, 74, 1, 25, 19, 93, 39, 63, 70]\n",
      "[10, 53, 89, 24, 64, 100, 89, 1, 27, 21, 86, 49, 91, 34, 66, 94, 29, 54, 93, 42]\n",
      "\n",
      "Sorted arrays:\n",
      "Dit algorithme duurt 77000 jaar om te sorteren. Je kunt de het uitzetten wanneer je wilt.\n"
     ]
    }
   ],
   "source": [
    "# Sorting algotitme 3: Bogo Sort\n",
    "def bogo_sort(array):\n",
    "    while not is_sorted(array):\n",
    "        random.shuffle(array)\n",
    "    return array\n",
    "\n",
    "# Methode is_gesorteerd, wordt gebruikt door bogo_sort()\n",
    "def is_sorted(array):\n",
    "    for i in range(len(array) - 1):\n",
    "        if array[i] > array[i + 1]:\n",
    "            return False\n",
    "    return True\n",
    "\n",
    "# Sort array1 using Bogo Sort\n",
    "print(\"Original arrays:\")\n",
    "print(array1)\n",
    "print(array2)\n",
    "print(array3)\n",
    "print()\n",
    "\n",
    "print(\"Sorted arrays:\")\n",
    "print(\"Dit algorithme duurt 77000 jaar om te sorteren. Je kuntde het uitzetten wanneer je wilt.\")\n",
    "# print(bogo_sort(array1))\n",
    "# print(bogo_sort(array2))\n",
    "# print(bogo_sort(array3))"
   ]
  },
  {
   "cell_type": "markdown",
   "metadata": {},
   "source": [
    "## American flag sort\n",
    "Voor de grap maken we de American flag sort algorithme. Dit is een algoritme dat een array sorteert door de waardes van de array te tellen en vervolgens de array te sorteren op basis van de getelde waardes. Het lijkt een beetje op de radix sort, aangezien dit algorithme er gebaseerd op is. In detail werkt het zo:\n",
    "- Eerst wordt de array gescand om de minimale en maximale waardes te vinden.\n",
    "- Vervolgens wordt er een array gemaakt met de lengte van het verschil tussen de minimale en maximale waardes.\n",
    "- Daarna wordt de array gescand en wordt er geteld hoe vaak een waarde voorkomt.\n",
    "- Vervolgens wordt de array gesorteerd op basis van de getelde waardes.\n",
    "- En dan hebben we een gesorteerde array.\n",
    "\n",
    "De big O notation voor de American flag sort is:\n",
    "- Worst case: O(n*k) Waar k de k de lengte is van de maximale waarde.\n",
    "- Best case: O(nk)\n",
    "- Avarage case: O(n*k/d)\n",
    "Het is een best wel betrouwbare sort algorithme."
   ]
  },
  {
   "cell_type": "code",
   "execution_count": 43,
   "metadata": {},
   "outputs": [
    {
     "name": "stdout",
     "output_type": "stream",
     "text": [
      "Original array:\n",
      "[9, 67, 29, 73, 54, 11, 76, 68, 84, 63, 11, 27, 45, 78, 7, 92, 95, 92, 5, 13]\n",
      "[14, 60, 29, 8, 13, 35, 21, 70, 23, 95, 84, 32, 37, 37, 78, 90, 1, 57, 83, 53]\n",
      "[80, 10, 72, 23, 38, 81, 32, 24, 71, 93, 88, 8, 59, 31, 2, 24, 97, 49, 57, 29]\n",
      "\n",
      "Sorted array:\n",
      "[5, 7, 9, 11, 11, 13, 27, 29, 45, 54, 63, 67, 68, 73, 76, 78, 84, 92, 92, 95]\n",
      "[1, 8, 13, 14, 21, 23, 29, 32, 35, 37, 37, 53, 57, 60, 70, 78, 83, 84, 90, 95]\n",
      "[2, 8, 10, 23, 24, 24, 29, 31, 32, 38, 49, 57, 59, 71, 72, 80, 81, 88, 93, 97]\n",
      "\n",
      "De tijd die het kost om de american flag sort uit te voeren is:  0.013097600000037346 ms\n"
     ]
    }
   ],
   "source": [
    "def american_flag_sort(array):\n",
    "    # Vind de maximale waarde in de array zelf\n",
    "    max_value = max(array)\n",
    "\n",
    "    # Maak een lijst van lege emmers, die met elk nummer in de array met één toenemen.\n",
    "    buckets = [[] for _ in range(max_value + 1)]\n",
    "\n",
    "    # Plaats elk element in de array in de juiste emmer met behulp van de append-functie.\n",
    "    for num in array:\n",
    "        buckets[num].append(num)\n",
    "\n",
    "    # Sorteer elke emmer met het bellenblaas sorteer algoritme\n",
    "    # voor elke emmer in de lijst van emmers\n",
    "    # voor elk element in de huidige emmer\n",
    "    # als het huidige element groter is dan het volgende element\n",
    "    # dan verwissel je de twee elementen met elkaar en ga verder.\n",
    "    # Bijvoorbeeld [1, 3, 2] wordt [1, 2, 3] of [5,9,3,7] wordt [5,3,7,9] en dan [3,5,7,9].\n",
    "    for bucket in buckets:\n",
    "        for i in range(len(bucket) - 1):\n",
    "            for j in range(len(bucket) - i - 1):\n",
    "                if bucket[j] > bucket[j + 1]:\n",
    "                    bucket[j], bucket[j + 1] = bucket[j + 1], bucket[j]\n",
    "\n",
    "    # Nadat dat allemaal is gedaan, kun je de gesorteerde emmers toevoegen aan de gesorteerde array.\n",
    "    sorted_array = []\n",
    "    for bucket in buckets:\n",
    "        sorted_array.extend(bucket)\n",
    "\n",
    "    return sorted_array\n",
    "\n",
    "\n",
    "print(\"Original array:\")\n",
    "print(array1)\n",
    "print(array2)\n",
    "print(array3)\n",
    "print()\n",
    "\n",
    "print(\"Sorted array:\")\n",
    "print(american_flag_sort(array1))\n",
    "print(american_flag_sort(array2))\n",
    "print(american_flag_sort(array3))\n",
    "print()\n",
    "\n",
    "print(\"De tijd die het kost om de american flag sort uit te voeren is: \", timeit.timeit(\"american_flag_sort(array1)\", globals=globals(), number=1000), \"ms\")"
   ]
  },
  {
   "cell_type": "markdown",
   "metadata": {},
   "source": [
    "## Radix sort\n",
    "Radix sort maakt gebruik van het idea dat je de plaats van een waarde kan exploiteren. Het wordt ervan uitgegaan dat het sorteren van de waardes, cijfer voor cijfer uiteindelijk zal resulteren in een volledig gesorteerde lijst. Radix Sorteren kan worden uitgevoerd met behulp van verschillende variaties, zoals Radix Sorteren met Least Significant Digit (LSD) of Radix Sorteren met Meest Significante Cijfers (MSD).\n",
    "\n",
    "Hoe werkt het algorithme:\n",
    "1. Bepaal het maximale getal in de array en bepaal het aantal cijfers in dat getal. Bepaald hoeveel iteraties er zijn.\n",
    "2. Maak een hulparray met dezelfde lengte als de oorspronkelijke array.\n",
    "3. Begin met de minst significante cijfer (LSB) en sorteer de array op basis van dat cijfer. Hier kun je gebruik maken van counting sort.\n",
    "4. Herhaal stap 3 voor elk volgend cijfer, van rechts naar links, totdat het meest significante cijfer (MSB) is bereikt.\n",
    "5. Na elke iteratie is de array gesorteerd op basis van het huidige cijfer. De hulparray wordt dan de nieuwe oorspronkelijke array voor de volgende iteratie.\n",
    "6. Herhaal stap 3 tot en met 5 totdat alle cijfers zijn gesorteerd.\n",
    "7. De uiteindelijke array is nu volledig gesorteerd.\n",
    "\n",
    "De big O notation van Radix sort is:\n",
    "- Worst case: O(nk)\n",
    "- Best case: Ω(n+k)\n",
    "- Average case: O(n+k)\n"
   ]
  },
  {
   "cell_type": "code",
   "execution_count": 2,
   "metadata": {},
   "outputs": [
    {
     "name": "stdout",
     "output_type": "stream",
     "text": [
      "Original array:\n",
      "[34, 65, 29, 81, 58, 13, 15, 31, 95, 93, 43, 52, 38, 23, 67, 46, 32, 16, 48, 69]\n",
      "[23, 79, 65, 92, 22, 69, 6, 63, 98, 36, 77, 40, 42, 68, 50, 95, 25, 43, 46, 58]\n",
      "[81, 75, 84, 99, 59, 29, 45, 71, 82, 40, 45, 35, 54, 51, 71, 60, 18, 82, 18, 25]\n",
      "\n",
      "Sorted array:\n",
      "[13, 15, 16, 23, 29, 31, 32, 34, 38, 43, 46, 48, 52, 58, 65, 67, 69, 81, 93, 95]\n",
      "[6, 22, 23, 25, 36, 40, 42, 43, 46, 50, 58, 63, 65, 68, 69, 77, 79, 92, 95, 98]\n",
      "[18, 18, 25, 29, 35, 40, 45, 45, 51, 54, 59, 60, 71, 71, 75, 81, 82, 82, 84, 99]\n",
      "\n",
      "De tijd die het kost om de radix sort uit te voeren is:  0.08658699999978126 ms\n"
     ]
    }
   ],
   "source": [
    "def radix_sort(array):\n",
    "    # Vind het maximale nummer om het aantal cijfers te bepalen\n",
    "    max_num = max(array)\n",
    "    num_digits = len(str(max_num))\n",
    "\n",
    "    # Voer het telling sorteren uit voor elk cijfer\n",
    "    for digit in range(num_digits):\n",
    "        counting_sort(array, digit)\n",
    "\n",
    "    return array\n",
    "\n",
    "def counting_sort(array, digit):\n",
    "    n = len(array)\n",
    "    output = [0] * n\n",
    "    count = [0] * 10\n",
    "\n",
    "    # Tel het aantal voorkomens van elk cijfer\n",
    "    for i in range(n):\n",
    "        index = (array[i] // 10**digit) % 10\n",
    "        count[index] += 1\n",
    "\n",
    "    # Bereken de cumulatieve telling\n",
    "    for i in range(1, 10):\n",
    "        count[i] += count[i - 1]\n",
    "\n",
    "    # Bouw de uitvoerarray op\n",
    "    for i in range(n - 1, -1, -1):\n",
    "        index = (array[i] // 10**digit) % 10\n",
    "        output[count[index] - 1] = array[i]\n",
    "        count[index] -= 1\n",
    "\n",
    "    # Kopieer de gesorteerde elementen terug naar de oorspronkelijke array\n",
    "    for i in range(n):\n",
    "        array[i] = output[i]\n",
    "\n",
    "\n",
    "print(\"Original array:\")\n",
    "print(array1)\n",
    "print(array2)\n",
    "print(array3)\n",
    "print()\n",
    "\n",
    "print(\"Sorted array:\")\n",
    "print(radix_sort(array1))\n",
    "print(radix_sort(array2))\n",
    "print(radix_sort(array3))\n",
    "print()\n",
    "\n",
    "print(\"De tijd die het kost om de radix sort uit te voeren is: \", timeit.timeit(\"radix_sort(array1)\", globals=globals(), number=1000), \"ms\")"
   ]
  }
 ],
 "metadata": {
  "kernelspec": {
   "display_name": "pjotr-sennen-des-portfolio-AO_7LpoM-py3.12",
   "language": "python",
   "name": "python3"
  },
  "language_info": {
   "codemirror_mode": {
    "name": "ipython",
    "version": 3
   },
   "file_extension": ".py",
   "mimetype": "text/x-python",
   "name": "python",
   "nbconvert_exporter": "python",
   "pygments_lexer": "ipython3",
   "version": "3.12.2"
  }
 },
 "nbformat": 4,
 "nbformat_minor": 2
}
