{
 "cells": [
  {
   "cell_type": "markdown",
   "metadata": {},
   "source": [
    "# PR 3.1 Pjotr en Sennen\n",
    "\n",
    "Hierin staat de opdracht die we hebben gekregen na het hoorcollege van maandag 26 februari 2024.\n",
    "\n",
    "Maak een 3 arrays van 20 willekeurige getalen."
   ]
  },
  {
   "cell_type": "code",
   "execution_count": 7,
   "metadata": {},
   "outputs": [],
   "source": [
    "import random\n",
    "\n",
    "# Create the first array\n",
    "array1 = [random.randint(1, 100) for _ in range(20)]\n",
    "\n",
    "# Create the second array\n",
    "array2 = [random.randint(1, 100) for _ in range(20)]\n",
    "\n",
    "# Create the third array\n",
    "array3 = [random.randint(1, 100) for _ in range(20)]\n",
    "\n",
    "\n",
    "list1 = [78, 23, 12, 54, 90, 37, 65, 8, 19, 46, 71, 28, 5, 95, 32, 60, 15, 42, 69, 10]\n",
    "list2 = [17, -23, 12, 3, -14, 28, 4, -37, 19, 10, 22, -8, 35, -29, 7, 20, -40, 32, 9, 6]\n",
    "list3 = [23, 14, 37, 1, 28, 10, 32, 6, 19, 35, 2, 40, 15, 3, 25, 7, 39, 20, 12, 31]\n",
    "\n",
    "\n",
    "# # # "
   ]
  },
  {
   "cell_type": "markdown",
   "metadata": {},
   "source": [
    "Hierna moesten we zoeken op het internet naar ten minste drie verschillende sorteeralgoritmes die je wilt gebruiken om de integer arrays mee te sorteren.\n",
    "\n",
    "Uiteindelijk hebben we gekozen voor de volgende algoritmes:\n",
    "- Bubble Sort\n",
    "- Quick Sort\n",
    "- Bogo Sort\n",
    "\n",
    "\n",
    "Hieronder mplementeren we onze gekozen sorteeralgoritmes om de integer arrays mee te sorteren. (Maak voor elk sorteeralgoritme een nieuwe methode aan die een integer array als parameter heeft en de integer array gesorteerd returnt.)i"
   ]
  },
  {
   "cell_type": "code",
   "execution_count": 6,
   "metadata": {},
   "outputs": [
    {
     "name": "stdout",
     "output_type": "stream",
     "text": [
      "Originele arrays:\n",
      "[21, 58, 20, 19, 86, 98, 5, 60, 31, 42, 39, 2, 77, 45, 72, 50, 77, 11, 90, 14]\n",
      "[60, 4, 68, 86, 28, 70, 38, 92, 36, 81, 16, 44, 98, 33, 49, 59, 88, 12, 17, 100]\n",
      "[85, 29, 13, 25, 5, 99, 40, 6, 44, 93, 37, 11, 93, 71, 49, 12, 11, 41, 80, 22]\n",
      "\n",
      "Gesorteerde arrays:\n",
      "[2, 5, 11, 14, 19, 20, 21, 31, 39, 42, 45, 50, 58, 60, 72, 77, 77, 86, 90, 98]\n",
      "[4, 12, 16, 17, 28, 33, 36, 38, 44, 49, 59, 60, 68, 70, 81, 86, 88, 92, 98, 100]\n",
      "[5, 6, 11, 11, 12, 13, 22, 25, 29, 37, 40, 41, 44, 49, 71, 80, 85, 93, 93, 99]\n"
     ]
    }
   ],
   "source": [
    "# Sorting algoritme 1: Bubble Sort\n",
    "\n",
    "def bubble(array):\n",
    "    n = len(array)\n",
    "    for i in range(n - 1):\n",
    "        for j in range(0, n - i - 1):\n",
    "            if array[j] > array[j + 1]:\n",
    "                array[j], array[j + 1] = array[j + 1], array[j]\n",
    "\n",
    "print('Originele arrays:')\n",
    "print(array1)\n",
    "print(array2)\n",
    "print(array3)\n",
    "print()\n",
    "\n",
    "bubble(array1)\n",
    "bubble(array2)\n",
    "bubble(array3)\n",
    "\n",
    "\n",
    "print('Gesorteerde arrays:')\n",
    "print(array1)\n",
    "print(array2)\n",
    "print(array3)"
   ]
  },
  {
   "cell_type": "code",
   "execution_count": 8,
   "metadata": {},
   "outputs": [
    {
     "name": "stdout",
     "output_type": "stream",
     "text": [
      "Orginele lists: \n",
      "[81, 70, 94, 81, 28, 100, 58, 61, 98, 67, 14, 18, 18, 87, 47, 61, 17, 90, 7, 60]\n",
      "[77, 95, 23, 13, 97, 52, 65, 45, 14, 76, 36, 90, 29, 21, 37, 77, 36, 65, 75, 54]\n",
      "[100, 34, 51, 82, 80, 76, 36, 33, 96, 77, 53, 44, 47, 95, 14, 47, 9, 30, 33, 23]\n",
      "\n",
      "Gesorteerde arraylists: \n",
      "[7, 14, 17, 18, 18, 28, 47, 58, 60, 61, 61, 67, 70, 81, 81, 87, 90, 94, 98, 100]\n",
      "[13, 14, 21, 23, 29, 36, 36, 37, 45, 52, 54, 65, 65, 75, 76, 77, 77, 90, 95, 97]\n",
      "[9, 14, 23, 30, 33, 33, 34, 36, 44, 47, 47, 51, 53, 76, 77, 80, 82, 95, 96, 100]\n"
     ]
    }
   ],
   "source": [
    "# Sorting algoritme 2: Quick Sort\n",
    "def quick_sort(array):\n",
    "    if len(array) <= 1:\n",
    "        return array\n",
    "    else:\n",
    "        pivot = array[0]\n",
    "        less = [x for x in array[1:] if x <= pivot]\n",
    "        greater = [x for x in array[1:] if x > pivot]\n",
    "        return quick_sort(less) + [pivot] + quick_sort(greater)\n",
    "\n",
    "print(\"Orginele lists: \")\n",
    "print(array1)\n",
    "print(array2)\n",
    "print(array3)\n",
    "print()\n",
    "\n",
    "print(\"Gesorteerde arraylists: \")\n",
    "print(quick_sort(array1))\n",
    "print(quick_sort(array2))\n",
    "print(quick_sort(array3))"
   ]
  },
  {
   "cell_type": "code",
   "execution_count": 2,
   "metadata": {},
   "outputs": [
    {
     "name": "stdout",
     "output_type": "stream",
     "text": [
      "Original arrays:\n",
      "[70, 55, 54, 81, 24, 34, 25, 89, 100, 49, 81, 31, 16, 50, 88, 58, 83, 63, 86, 63]\n",
      "[78, 73, 14, 65, 60, 41, 95, 100, 21, 22, 40, 28, 74, 1, 25, 19, 93, 39, 63, 70]\n",
      "[10, 53, 89, 24, 64, 100, 89, 1, 27, 21, 86, 49, 91, 34, 66, 94, 29, 54, 93, 42]\n",
      "\n",
      "Sorted arrays:\n",
      "Dit algorithme duurt 77000 jaar om te sorteren. Je kunt de het uitzetten wanneer je wilt.\n"
     ]
    }
   ],
   "source": [
    "# Sorting algorithm 3: Bogo Sort\n",
    "def bogo_sort(array):\n",
    "    while not is_sorted(array):\n",
    "        random.shuffle(array)\n",
    "    return array\n",
    "\n",
    "# Function to check if the array is sorted\n",
    "def is_sorted(array):\n",
    "    for i in range(len(array) - 1):\n",
    "        if array[i] > array[i + 1]:\n",
    "            return False\n",
    "    return True\n",
    "\n",
    "# Sort array1 using Bogo Sort\n",
    "print(\"Original arrays:\")\n",
    "print(array1)\n",
    "print(array2)\n",
    "print(array3)\n",
    "print()\n",
    "\n",
    "print(\"Sorted arrays:\")\n",
    "print(\"Dit algorithme duurt 77000 jaar om te sorteren. Je kuntde het uitzetten wanneer je wilt.\")\n",
    "# print(bogo_sort(array1))\n",
    "# print(bogo_sort(array2))\n",
    "# print(bogo_sort(array3))"
   ]
  }
 ],
 "metadata": {
  "kernelspec": {
   "display_name": "pjotr-sennen-des-portfolio-AO_7LpoM-py3.12",
   "language": "python",
   "name": "python3"
  },
  "language_info": {
   "codemirror_mode": {
    "name": "ipython",
    "version": 3
   },
   "file_extension": ".py",
   "mimetype": "text/x-python",
   "name": "python",
   "nbconvert_exporter": "python",
   "pygments_lexer": "ipython3",
   "version": "3.12.2"
  }
 },
 "nbformat": 4,
 "nbformat_minor": 2
}
