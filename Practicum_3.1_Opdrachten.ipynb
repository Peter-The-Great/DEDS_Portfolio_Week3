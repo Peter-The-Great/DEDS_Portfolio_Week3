{
 "cells": [
  {
   "cell_type": "markdown",
   "metadata": {},
   "source": [
    "# PR 3.1 Pjotr en Sennen\n",
    "\n",
    "Hierin staat de opdracht die we hebben gekregen na het hoorcollege van maandag 26 februari 2024.\n",
    "\n",
    "Maak een 3 arrays van 20 willekeurige getalen."
   ]
  },
  {
   "cell_type": "code",
   "execution_count": 42,
   "metadata": {},
   "outputs": [],
   "source": [
    "import random\n",
    "import timeit\n",
    "\n",
    "# Maak eerste array\n",
    "array1 = [random.randint(1, 100) for _ in range(20)]\n",
    "\n",
    "# Maak tweede array\n",
    "array2 = [random.randint(1, 100) for _ in range(20)]\n",
    "\n",
    "# Maak derde array\n",
    "array3 = [random.randint(1, 100) for _ in range(20)]\n",
    "\n",
    "# # # "
   ]
  },
  {
   "cell_type": "markdown",
   "metadata": {},
   "source": [
    "Hierna moesten we zoeken op het internet naar ten minste drie verschillende sorteeralgoritmes die je wilt gebruiken om de integer arrays mee te sorteren.\n",
    "\n",
    "Uiteindelijk hebben we gekozen voor de volgende algoritmes:\n",
    "- Bubble Sort\n",
    "- Quick Sort\n",
    "- Bogo Sort\n",
    "\n",
    "\n",
    "Hieronder mplementeren we onze gekozen sorteeralgoritmes om de integer arrays mee te sorteren. (Maak voor elk sorteeralgoritme een nieuwe methode aan die een integer array als parameter heeft en de integer array gesorteerd returnt.)"
   ]
  },
  {
   "cell_type": "markdown",
   "metadata": {},
   "source": [
    "## Bubble Sort\n",
    "Bubble Sort is een eenvoudig sorteeralgoritme. Het werkt door herhaaldelijk doorlopen van de lijst, te vergelijken van elk element met zijn opvolger en ze om te wisselen als ze in de verkeerde volgorde staan. De passen door de lijst worden herhaald totdat de lijst gesorteerd is. De algoritme is niet erg efficiënt, maar het is een van de eenvoudigste sorteeralgoritmes om te implementeren.\n",
    "\n",
    "Hoe werkt het?\n",
    "- Vergelijk elk paar opeenvolgende elementen van de lijst.\n",
    "- Als ze in de verkeerde volgorde staan, wissel ze om.\n",
    "- Herhaal dit totdat de lijst gesorteerd is."
   ]
  },
  {
   "cell_type": "code",
   "execution_count": 31,
   "metadata": {},
   "outputs": [
    {
     "name": "stdout",
     "output_type": "stream",
     "text": [
      "Originele arrays:\n",
      "[16, 39, 13, 18, 81, 24, 76, 46, 37, 92, 43, 8, 72, 94, 17, 75, 50, 43, 22, 30]\n",
      "[16, 1, 56, 100, 83, 93, 3, 9, 65, 1, 75, 60, 93, 94, 49, 89, 48, 15, 36, 39]\n",
      "[11, 45, 35, 42, 77, 78, 60, 92, 38, 78, 35, 50, 36, 80, 49, 15, 67, 39, 9, 76]\n",
      "\n",
      "Gesorteerde arrays:\n",
      "[6, 12, 20, 25, 28, 31, 31, 34, 41, 48, 49, 52, 64, 79, 84, 86, 90, 91, 94, 96]\n",
      "[4, 13, 16, 18, 26, 29, 32, 34, 46, 49, 61, 61, 61, 67, 70, 75, 86, 96, 98, 99]\n",
      "[6, 7, 14, 17, 29, 30, 38, 44, 48, 51, 51, 53, 68, 72, 75, 77, 81, 88, 90, 93]\n",
      "\n",
      "De tijd die het kost om de bubble sort uit te voeren is:  0.00781999999890104 ms\n"
     ]
    }
   ],
   "source": [
    "# Sorting algoritme 1: Bubble Sort\n",
    "\n",
    "def bubble(array):\n",
    "    n = len(array)\n",
    "    for i in range(n - 1):\n",
    "        for j in range(0, n - i - 1):\n",
    "            if array[j] > array[j + 1]:\n",
    "                array[j], array[j + 1] = array[j + 1], array[j]\n",
    "    return array\n",
    "\n",
    "print('Originele arrays:')\n",
    "print(array1)\n",
    "print(array2)\n",
    "print(array3)\n",
    "print()\n",
    "\n",
    "\n",
    "print('Gesorteerde arrays:')\n",
    "print(bubble(array1))\n",
    "print(bubble(array2))\n",
    "print(bubble(array3))\n",
    "print()\n",
    "\n",
    "print(\"De tijd die het kost om de bubble sort uit te voeren is: \", timeit.timeit(\"bubble(array1)\", globals=globals(), number=1000), \"ms\")"
   ]
  },
  {
   "cell_type": "markdown",
   "metadata": {},
   "source": [
    "## Quick Sort\n",
    "Quick sort is een algoritme dat veel gebruikt. Het kiest een element als pivot en deelt de array in twee delen op. De elementen kleiner dan de pivot komen links van de pivot en de elementen groter dan de pivot komen rechts van de pivot. De elementen links en rechts van de pivot worden dan opnieuw gesorteerd. Dit proces wordt herhaald totdat de array gesorteerd is."
   ]
  },
  {
   "cell_type": "code",
   "execution_count": 40,
   "metadata": {},
   "outputs": [
    {
     "name": "stdout",
     "output_type": "stream",
     "text": [
      "Orginele lists: \n",
      "[71, 60, 21, 62, 72, 15, 50, 80, 56, 94, 53, 88, 43, 43, 49, 26, 12, 82, 3, 3]\n",
      "[30, 67, 93, 35, 76, 7, 73, 81, 85, 40, 65, 86, 46, 76, 7, 82, 59, 79, 78, 96]\n",
      "[76, 39, 83, 67, 92, 44, 90, 15, 22, 99, 6, 65, 64, 36, 9, 43, 29, 6, 11, 51]\n",
      "\n",
      "Gesorteerde arraylists: \n",
      "[2, 7, 9, 11, 20, 27, 32, 32, 33, 35, 38, 58, 71, 76, 78, 79, 88, 93, 98, 98]\n",
      "[2, 9, 9, 10, 15, 18, 19, 20, 27, 37, 39, 48, 49, 50, 51, 53, 66, 69, 74, 95]\n",
      "[6, 20, 21, 24, 26, 31, 32, 33, 33, 35, 37, 40, 44, 44, 58, 68, 72, 73, 76, 93]\n",
      "\n",
      "De tijd die het kost om de quick sort uit te voeren is:  0.012693599999693106 ms\n"
     ]
    }
   ],
   "source": [
    "# Sorting algoritme 2: Quick Sort\n",
    "def quick_sort(array):\n",
    "    if len(array) <= 1:\n",
    "        return array\n",
    "    else:\n",
    "        pivot = array[0]\n",
    "        less = [x for x in array[1:] if x <= pivot]\n",
    "        greater = [x for x in array[1:] if x > pivot]\n",
    "        return quick_sort(less) + [pivot] + quick_sort(greater)\n",
    "\n",
    "print(\"Orginele lists: \")\n",
    "print(array1)\n",
    "print(array2)\n",
    "print(array3)\n",
    "print()\n",
    "\n",
    "print(\"Gesorteerde arraylists: \")\n",
    "print(quick_sort(array1))\n",
    "print(quick_sort(array2))\n",
    "print(quick_sort(array3))\n",
    "print()\n",
    "\n",
    "print(\"De tijd die het kost om de quick sort uit te voeren is: \", timeit.timeit(\"quick_sort(array1)\", globals=globals(), number=1000), \"ms\")"
   ]
  },
  {
   "cell_type": "markdown",
   "metadata": {},
   "source": [
    "## Bogo Sort\n",
    "Bogo sort is een algoritme dat de elementen van een array randomiseert en vervolgens controleert of de array gesorteerd is. Als dit niet het geval is, wordt de array opnieuw gerandomiseerd. Dit proces wordt herhaald totdat de array gesorteerd is. Het algoritme heeft een gemiddelde complexiteit van O(n * n!).\n",
    "\n",
    "Het werkt zo:\n",
    "1. Randomiseer de array.\n",
    "2. Controleer of de array gesorteerd is.\n",
    "3. Als de array gesorteerd is, stop. Zo niet, ga terug naar stap 1.\n",
    "\n",
    "Heel slecht algoritme, een alotritme dat je nooit zou moeten gebruiken. Maar wel handig om te weten wat je niet moet gebruiken."
   ]
  },
  {
   "cell_type": "code",
   "execution_count": 2,
   "metadata": {},
   "outputs": [
    {
     "name": "stdout",
     "output_type": "stream",
     "text": [
      "Original arrays:\n",
      "[70, 55, 54, 81, 24, 34, 25, 89, 100, 49, 81, 31, 16, 50, 88, 58, 83, 63, 86, 63]\n",
      "[78, 73, 14, 65, 60, 41, 95, 100, 21, 22, 40, 28, 74, 1, 25, 19, 93, 39, 63, 70]\n",
      "[10, 53, 89, 24, 64, 100, 89, 1, 27, 21, 86, 49, 91, 34, 66, 94, 29, 54, 93, 42]\n",
      "\n",
      "Sorted arrays:\n",
      "Dit algorithme duurt 77000 jaar om te sorteren. Je kunt de het uitzetten wanneer je wilt.\n"
     ]
    }
   ],
   "source": [
    "# Sorting algorithm 3: Bogo Sort\n",
    "def bogo_sort(array):\n",
    "    while not is_sorted(array):\n",
    "        random.shuffle(array)\n",
    "    return array\n",
    "\n",
    "# Function to check if the array is sorted\n",
    "def is_sorted(array):\n",
    "    for i in range(len(array) - 1):\n",
    "        if array[i] > array[i + 1]:\n",
    "            return False\n",
    "    return True\n",
    "\n",
    "# Sort array1 using Bogo Sort\n",
    "print(\"Original arrays:\")\n",
    "print(array1)\n",
    "print(array2)\n",
    "print(array3)\n",
    "print()\n",
    "\n",
    "print(\"Sorted arrays:\")\n",
    "print(\"Dit algorithme duurt 77000 jaar om te sorteren. Je kuntde het uitzetten wanneer je wilt.\")\n",
    "# print(bogo_sort(array1))\n",
    "# print(bogo_sort(array2))\n",
    "# print(bogo_sort(array3))"
   ]
  },
  {
   "cell_type": "markdown",
   "metadata": {},
   "source": [
    "## American flag sort\n",
    "Voor de grap maken we de American flag sort algorithme. Dit is een algoritme dat een array sorteert door de waardes van de array te tellen en vervolgens de array te sorteren op basis van de getelde waardes. In detail werkt het zo:\n",
    "- Eerst wordt de array gescand om de minimale en maximale waardes te vinden.\n",
    "- Vervolgens wordt er een array gemaakt met de lengte van het verschil tussen de minimale en maximale waardes.\n",
    "- Daarna wordt de array gescand en wordt er geteld hoe vaak een waarde voorkomt.\n",
    "- Vervolgens wordt de array gesorteerd op basis van de getelde waardes.\n",
    "- En dan hebben we een gesorteerde array."
   ]
  },
  {
   "cell_type": "code",
   "execution_count": 43,
   "metadata": {},
   "outputs": [
    {
     "name": "stdout",
     "output_type": "stream",
     "text": [
      "Original array:\n",
      "[9, 67, 29, 73, 54, 11, 76, 68, 84, 63, 11, 27, 45, 78, 7, 92, 95, 92, 5, 13]\n",
      "[14, 60, 29, 8, 13, 35, 21, 70, 23, 95, 84, 32, 37, 37, 78, 90, 1, 57, 83, 53]\n",
      "[80, 10, 72, 23, 38, 81, 32, 24, 71, 93, 88, 8, 59, 31, 2, 24, 97, 49, 57, 29]\n",
      "\n",
      "Sorted array:\n",
      "[5, 7, 9, 11, 11, 13, 27, 29, 45, 54, 63, 67, 68, 73, 76, 78, 84, 92, 92, 95]\n",
      "[1, 8, 13, 14, 21, 23, 29, 32, 35, 37, 37, 53, 57, 60, 70, 78, 83, 84, 90, 95]\n",
      "[2, 8, 10, 23, 24, 24, 29, 31, 32, 38, 49, 57, 59, 71, 72, 80, 81, 88, 93, 97]\n",
      "\n",
      "De tijd die het kost om de american flag sort uit te voeren is:  0.013097600000037346 ms\n"
     ]
    }
   ],
   "source": [
    "def american_flag_sort(array):\n",
    "    # Vind de maximale waarde in de array\n",
    "    max_value = max(array)\n",
    "\n",
    "    # maak een lijst van lege lijsten voor de buckets\n",
    "    buckets = [[] for _ in range(max_value + 1)]\n",
    "\n",
    "    # Plaats elk element in de juiste bucket\n",
    "    for num in array:\n",
    "        buckets[num].append(num)\n",
    "\n",
    "    # Sorteer elke bucket en plaats de elementen terug in de array\n",
    "    for bucket in buckets:\n",
    "        for i in range(len(bucket) - 1):\n",
    "            for j in range(len(bucket) - i - 1):\n",
    "                if bucket[j] > bucket[j + 1]:\n",
    "                    bucket[j], bucket[j + 1] = bucket[j + 1], bucket[j]\n",
    "\n",
    "    # Voeg de gesorteerde buckets samen\n",
    "    sorted_array = []\n",
    "    for bucket in buckets:\n",
    "        sorted_array.extend(bucket)\n",
    "\n",
    "    return sorted_array\n",
    "\n",
    "print(\"Original array:\")\n",
    "print(array1)\n",
    "print(array2)\n",
    "print(array3)\n",
    "print()\n",
    "\n",
    "print(\"Sorted array:\")\n",
    "print(american_flag_sort(array1))\n",
    "print(american_flag_sort(array2))\n",
    "print(american_flag_sort(array3))\n",
    "print()\n",
    "\n",
    "print(\"De tijd die het kost om de american flag sort uit te voeren is: \", timeit.timeit(\"american_flag_sort(array1)\", globals=globals(), number=1000), \"ms\")"
   ]
  }
 ],
 "metadata": {
  "kernelspec": {
   "display_name": "pjotr-sennen-des-portfolio-AO_7LpoM-py3.12",
   "language": "python",
   "name": "python3"
  },
  "language_info": {
   "codemirror_mode": {
    "name": "ipython",
    "version": 3
   },
   "file_extension": ".py",
   "mimetype": "text/x-python",
   "name": "python",
   "nbconvert_exporter": "python",
   "pygments_lexer": "ipython3",
   "version": "3.12.2"
  }
 },
 "nbformat": 4,
 "nbformat_minor": 2
}
